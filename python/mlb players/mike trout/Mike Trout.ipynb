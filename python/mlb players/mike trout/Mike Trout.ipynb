{
 "cells": [
  {
   "cell_type": "code",
   "execution_count": 7,
   "id": "be309390-f55e-4ecd-80b9-3604edeed788",
   "metadata": {},
   "outputs": [],
   "source": [
    "import pandas as pd\n",
    "import matplotlib.pyplot as plt\n",
    "import pybaseball as pyb"
   ]
  },
  {
   "cell_type": "code",
   "execution_count": 8,
   "id": "7f6cc40f-9986-4bbb-8cfc-e85b87bc4aa7",
   "metadata": {},
   "outputs": [
    {
     "data": {
      "text/html": [
       "<div>\n",
       "<style scoped>\n",
       "    .dataframe tbody tr th:only-of-type {\n",
       "        vertical-align: middle;\n",
       "    }\n",
       "\n",
       "    .dataframe tbody tr th {\n",
       "        vertical-align: top;\n",
       "    }\n",
       "\n",
       "    .dataframe thead th {\n",
       "        text-align: right;\n",
       "    }\n",
       "</style>\n",
       "<table border=\"1\" class=\"dataframe\">\n",
       "  <thead>\n",
       "    <tr style=\"text-align: right;\">\n",
       "      <th></th>\n",
       "      <th>team</th>\n",
       "      <th>x</th>\n",
       "      <th>y</th>\n",
       "      <th>segment</th>\n",
       "      <th>name</th>\n",
       "      <th>location</th>\n",
       "    </tr>\n",
       "  </thead>\n",
       "  <tbody>\n",
       "    <tr>\n",
       "      <th>0</th>\n",
       "      <td>angels</td>\n",
       "      <td>147.568126</td>\n",
       "      <td>-179.161874</td>\n",
       "      <td>infield_inner</td>\n",
       "      <td>Angel Stadium of Anaheim</td>\n",
       "      <td>Anaheim, CA</td>\n",
       "    </tr>\n",
       "    <tr>\n",
       "      <th>1</th>\n",
       "      <td>angels</td>\n",
       "      <td>144.993615</td>\n",
       "      <td>-181.736385</td>\n",
       "      <td>infield_inner</td>\n",
       "      <td>Angel Stadium of Anaheim</td>\n",
       "      <td>Anaheim, CA</td>\n",
       "    </tr>\n",
       "    <tr>\n",
       "      <th>2</th>\n",
       "      <td>angels</td>\n",
       "      <td>142.419105</td>\n",
       "      <td>-184.310895</td>\n",
       "      <td>infield_inner</td>\n",
       "      <td>Angel Stadium of Anaheim</td>\n",
       "      <td>Anaheim, CA</td>\n",
       "    </tr>\n",
       "    <tr>\n",
       "      <th>3</th>\n",
       "      <td>angels</td>\n",
       "      <td>139.844595</td>\n",
       "      <td>-186.885405</td>\n",
       "      <td>infield_inner</td>\n",
       "      <td>Angel Stadium of Anaheim</td>\n",
       "      <td>Anaheim, CA</td>\n",
       "    </tr>\n",
       "    <tr>\n",
       "      <th>4</th>\n",
       "      <td>angels</td>\n",
       "      <td>137.270085</td>\n",
       "      <td>-189.459915</td>\n",
       "      <td>infield_inner</td>\n",
       "      <td>Angel Stadium of Anaheim</td>\n",
       "      <td>Anaheim, CA</td>\n",
       "    </tr>\n",
       "  </tbody>\n",
       "</table>\n",
       "</div>"
      ],
      "text/plain": [
       "     team           x           y        segment                      name  \\\n",
       "0  angels  147.568126 -179.161874  infield_inner  Angel Stadium of Anaheim   \n",
       "1  angels  144.993615 -181.736385  infield_inner  Angel Stadium of Anaheim   \n",
       "2  angels  142.419105 -184.310895  infield_inner  Angel Stadium of Anaheim   \n",
       "3  angels  139.844595 -186.885405  infield_inner  Angel Stadium of Anaheim   \n",
       "4  angels  137.270085 -189.459915  infield_inner  Angel Stadium of Anaheim   \n",
       "\n",
       "      location  \n",
       "0  Anaheim, CA  \n",
       "1  Anaheim, CA  \n",
       "2  Anaheim, CA  \n",
       "3  Anaheim, CA  \n",
       "4  Anaheim, CA  "
      ]
     },
     "execution_count": 8,
     "metadata": {},
     "output_type": "execute_result"
    }
   ],
   "source": [
    "stadium = pd.read_csv('https://raw.githubusercontent.com/jldbc/pybaseball/master/pybaseball/data/mlbstadiums.csv')\n",
    "\n",
    "stadium['y'] = stadium['y'] * -1\n",
    "stadium = stadium.loc[:,'team':]\n",
    "\n",
    "stadium.head()"
   ]
  },
  {
   "cell_type": "code",
   "execution_count": 9,
   "id": "eedf5b0f-7746-4d8a-ae04-c134c01bcab0",
   "metadata": {},
   "outputs": [],
   "source": [
    "def plot_stadium(team, color):\n",
    "\n",
    "    team_df = stadium[stadium['team'] == team.lower()]\n",
    "    for i in stadium['segment'].unique():\n",
    "        data = team_df[team_df['segment'] == i]\n",
    "        plt.plot(data['x'],data['y'], linestyle = '-', color = color)\n",
    "    plt.suptitle(team.capitalize(), y=1.01, fontsize=15)\n",
    "    plt.title(team_df['location'].any(), fontsize=10)\n",
    "    plt.axis('off');"
   ]
  },
  {
   "cell_type": "code",
   "execution_count": 10,
   "id": "2a2d3ba7-0b2e-42fb-b458-6e3e05a1bfca",
   "metadata": {},
   "outputs": [
    {
     "name": "stdout",
     "output_type": "stream",
     "text": [
      "Gathering player lookup table. This may take a moment.\n"
     ]
    },
    {
     "data": {
      "text/html": [
       "<div>\n",
       "<style scoped>\n",
       "    .dataframe tbody tr th:only-of-type {\n",
       "        vertical-align: middle;\n",
       "    }\n",
       "\n",
       "    .dataframe tbody tr th {\n",
       "        vertical-align: top;\n",
       "    }\n",
       "\n",
       "    .dataframe thead th {\n",
       "        text-align: right;\n",
       "    }\n",
       "</style>\n",
       "<table border=\"1\" class=\"dataframe\">\n",
       "  <thead>\n",
       "    <tr style=\"text-align: right;\">\n",
       "      <th></th>\n",
       "      <th>name_last</th>\n",
       "      <th>name_first</th>\n",
       "      <th>key_mlbam</th>\n",
       "      <th>key_retro</th>\n",
       "      <th>key_bbref</th>\n",
       "      <th>key_fangraphs</th>\n",
       "      <th>mlb_played_first</th>\n",
       "      <th>mlb_played_last</th>\n",
       "    </tr>\n",
       "  </thead>\n",
       "  <tbody>\n",
       "    <tr>\n",
       "      <th>0</th>\n",
       "      <td>trout</td>\n",
       "      <td>mike</td>\n",
       "      <td>545361</td>\n",
       "      <td>troum001</td>\n",
       "      <td>troutmi01</td>\n",
       "      <td>10155</td>\n",
       "      <td>2011.0</td>\n",
       "      <td>2021.0</td>\n",
       "    </tr>\n",
       "  </tbody>\n",
       "</table>\n",
       "</div>"
      ],
      "text/plain": [
       "  name_last name_first  key_mlbam key_retro  key_bbref  key_fangraphs  \\\n",
       "0     trout       mike     545361  troum001  troutmi01          10155   \n",
       "\n",
       "   mlb_played_first  mlb_played_last  \n",
       "0            2011.0           2021.0  "
      ]
     },
     "execution_count": 10,
     "metadata": {},
     "output_type": "execute_result"
    }
   ],
   "source": [
    "pyb.playerid_lookup('trout', 'mike')"
   ]
  },
  {
   "cell_type": "code",
   "execution_count": 18,
   "id": "2f572087-52ca-4e3a-b79c-acbd45a1900c",
   "metadata": {},
   "outputs": [
    {
     "name": "stdout",
     "output_type": "stream",
     "text": [
      "Gathering Player Data\n"
     ]
    }
   ],
   "source": [
    "start_date = '2019-03-23'\n",
    "end_date = '2019-11-23'\n",
    "\n",
    "trout_df = pyb.statcast_batter(start_date, end_date, 545361)\n",
    "\n",
    "home_trout_df = trout_df.loc[trout_df['home_team'] == 'LAA']\n",
    "\n",
    "HR_LAA = home_trout_df[home_trout_df['events'] == 'home_run']"
   ]
  },
  {
   "cell_type": "code",
   "execution_count": 19,
   "id": "92ab0126-758a-4575-a24b-b73484d5e220",
   "metadata": {},
   "outputs": [
    {
     "data": {
      "image/png": "[encoded data removed]",
      "text/plain": [
       "<Figure size 432x288 with 1 Axes>"
      ]
     },
     "metadata": {
      "needs_background": "light"
     },
     "output_type": "display_data"
    }
   ],
   "source": [
    "plot_stadium('yankees','navy')\n",
    "plot_stadium('angels','crimson')\n",
    "\n",
    "plt.plot(HR_LAA['hc_x'],HR_LAA['hc_y']*-1, 'o',color= 'black')\n",
    "\n",
    "plt.suptitle(None)\n",
    "plt.title('Yankees (Navy) and Angels (Crimson)',fontsize = 15);"
   ]
  },
  {
   "cell_type": "code",
   "execution_count": null,
   "id": "947455b3-d65f-423f-aed0-470c8df3e2dd",
   "metadata": {},
   "outputs": [],
   "source": []
  }
 ],
 "metadata": {
  "kernelspec": {
   "display_name": "Python 3 (ipykernel)",
   "language": "python",
   "name": "python3"
  },
  "language_info": {
   "codemirror_mode": {
    "name": "ipython",
    "version": 3
   },
   "file_extension": ".py",
   "mimetype": "text/x-python",
   "name": "python",
   "nbconvert_exporter": "python",
   "pygments_lexer": "ipython3",
   "version": "3.8.12"
  }
 },
 "nbformat": 4,
 "nbformat_minor": 5
}
